{
 "cells": [
  {
   "cell_type": "code",
   "execution_count": null,
   "metadata": {},
   "outputs": [],
   "source": [
    "from AWSIoTPythonSDK.MQTTLib import AWSIoTMQTTShadowClient, AWSIoTMQTTClient\n",
    "\n",
    "# Connection Setting\n",
    "SHADOW_CLIENT = \"ShadowClient1_A0195017E\"\n",
    "HOST_NAME = \"a3okd7abcwvnh4-ats.iot.ap-southeast-1.amazonaws.com\"\n",
    "ROOT_CA = \"AmazonRootCA1.pem.txt\"\n",
    "PRIVATE_KEY = \"51edfa06dc-private.pem.key\"\n",
    "CERT_FILE = \"51edfa06dc-certificate.pem.crt\"\n",
    "SHADOW_HANDLER = \"thing1_A0195017E\"\n",
    "\n",
    "# Automatically called whenever the shadow is updated.\n",
    "def myShadowUpdateCallback(payload, responseStatus, token):\n",
    "    print('UPDATE: $aws/things/' + SHADOW_HANDLER + '/shadow/update/#')\n",
    "    print(\"payload = \" + payload)\n",
    "    print(\"responseStatus:\" + responseStatus)\n",
    "    print(\"token = \" + token)\n",
    "\n",
    "# Create, configure, and connect a shadow client.\n",
    "myShadowClient = AWSIoTMQTTShadowClient(SHADOW_CLIENT)\n",
    "myShadowClient.configureEndpoint(HOST_NAME, 8883)\n",
    "myShadowClient.configureCredentials(ROOT_CA, PRIVATE_KEY,CERT_FILE)\n",
    "myShadowClient.configureConnectDisconnectTimeout(10)\n",
    "myShadowClient.configureMQTTOperationTimeout(5)\n",
    "myShadowClient.connect()\n",
    "\n",
    "# Create a programmatic representation of the shadow.\n",
    "myDeviceShadow = myShadowClient.createShadowHandlerWithName(SHADOW_HANDLER, True)\n",
    "\n",
    "\n",
    "import pandas as pd\n",
    "import time, datetime\n",
    "import json\n",
    "\n",
    "#load & overwrite \n",
    "file = pd.read_csv('train_FD001.txt', delim_whitespace = True, header = None)\n",
    "sensor=[]\n",
    "for i in range(21):\n",
    "    sensor[i]='sensor'+ str(i+1)\n",
    "file.columns = ['id', 'cycle', 'os1', 'os2', 'os3'] + sensor\n",
    "file['id'] = file['id'].map(lambda x: 'FD001_'+str(x))\n",
    "file['Matric No.']='A0195017E'\n",
    "\n",
    "for i in range(100):\n",
    "    msg=file.loc[[i]]\n",
    "    msg['timestamp']='UTC '+str(datetime.datetime.utcnow())\n",
    "    msg.index=[\"reported\"]\n",
    "    msg=msg.to_json(orient='index')\n",
    "    msg='{\"state\":'+msg+'}'\n",
    "    myDeviceShadow.shadowUpdate(msg,myShadowUpdateCallback, 5)\n",
    "    time.sleep(10)"
   ]
  }
 ],
 "metadata": {
  "kernelspec": {
   "display_name": "Python 3",
   "language": "python",
   "name": "python3"
  },
  "language_info": {
   "codemirror_mode": {
    "name": "ipython",
    "version": 3
   },
   "file_extension": ".py",
   "mimetype": "text/x-python",
   "name": "python",
   "nbconvert_exporter": "python",
   "pygments_lexer": "ipython3",
   "version": "3.7.4"
  }
 },
 "nbformat": 4,
 "nbformat_minor": 4
}
