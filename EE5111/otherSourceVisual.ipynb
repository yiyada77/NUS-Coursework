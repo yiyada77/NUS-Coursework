{
 "cells": [
  {
   "cell_type": "code",
   "execution_count": null,
   "metadata": {},
   "outputs": [],
   "source": [
    "#visualization\n",
    "year=list(range(2005,2017))\n",
    "\n",
    "category1=mvp.loc[(mvp['category']=='Cars & Station-wagons')&(mvp['type']=='Private cars'),'number']\n",
    "category2=mvp.loc[(mvp['category']=='Cars & Station-wagons')&(mvp['type']=='Company cars'),'number']\n",
    "category3=mvp.loc[(mvp['category']=='Cars & Station-wagons')&(mvp['type']=='Tuition cars'),'number']\n",
    "category4=mvp.loc[(mvp['category']=='Cars & Station-wagons')&(mvp['type']=='Rental cars'),'number']\n",
    "category5=mvp.loc[(mvp['category']=='Cars & Station-wagons')&(mvp['type']=='Off peak cars'),'number']\n",
    "\n",
    "plt.figure(1)\n",
    "plt.xlabel('Years')\n",
    "plt.ylabel('Number')\n",
    "plt.bar(year,category1.values,label='Private cars')\n",
    "plt.legend()\n",
    "\n",
    "plt.figure(2)\n",
    "plt.xlabel('Years')\n",
    "plt.ylabel('Number')\n",
    "width=0.2\n",
    "plt.bar(year, category2, width=width,label='Company cars')\n",
    "for i in range(len(year)):\n",
    "    year[i] = year[i] + width\n",
    "plt.bar(year, category4, width=width,label='Rental cars')\n",
    "for i in range(len(year)):\n",
    "    year[i] = year[i] + width\n",
    "plt.bar(year, category5, width=width,label='Off peak cars')\n",
    "plt.legend()\n",
    "\n",
    "plt.figure(3)\n",
    "plt.xlabel('Years')\n",
    "plt.ylabel('Number')\n",
    "plt.plot(year,category3.values,label='Tuition cars')\n",
    "plt.legend()\n",
    "                "
   ]
  },
  {
   "cell_type": "code",
   "execution_count": null,
   "metadata": {},
   "outputs": [],
   "source": []
  }
 ],
 "metadata": {
  "kernelspec": {
   "display_name": "Python 3",
   "language": "python",
   "name": "python3"
  },
  "language_info": {
   "codemirror_mode": {
    "name": "ipython",
    "version": 3
   },
   "file_extension": ".py",
   "mimetype": "text/x-python",
   "name": "python",
   "nbconvert_exporter": "python",
   "pygments_lexer": "ipython3",
   "version": "3.7.4"
  }
 },
 "nbformat": 4,
 "nbformat_minor": 4
}
