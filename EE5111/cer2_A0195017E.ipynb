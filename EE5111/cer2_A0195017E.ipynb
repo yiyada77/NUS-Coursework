{
 "cells": [
  {
   "cell_type": "code",
   "execution_count": 3,
   "metadata": {},
   "outputs": [
    {
     "ename": "OSError",
     "evalue": "3d36242fd5-certificate.pem.crt: No such file or directory",
     "output_type": "error",
     "traceback": [
      "\u001b[0;31m---------------------------------------------------------------------------\u001b[0m",
      "\u001b[0;31mFileNotFoundError\u001b[0m                         Traceback (most recent call last)",
      "\u001b[0;32m//anaconda3/lib/python3.7/site-packages/AWSIoTPythonSDK/core/protocol/paho/client.py\u001b[0m in \u001b[0;36mtls_set\u001b[0;34m(self, ca_certs, certfile, keyfile, cert_reqs, tls_version, ciphers)\u001b[0m\n\u001b[1;32m    614\u001b[0m             \u001b[0;32mtry\u001b[0m\u001b[0;34m:\u001b[0m\u001b[0;34m\u001b[0m\u001b[0;34m\u001b[0m\u001b[0m\n\u001b[0;32m--> 615\u001b[0;31m                 \u001b[0mf\u001b[0m \u001b[0;34m=\u001b[0m \u001b[0mopen\u001b[0m\u001b[0;34m(\u001b[0m\u001b[0mcertfile\u001b[0m\u001b[0;34m,\u001b[0m \u001b[0;34m\"r\"\u001b[0m\u001b[0;34m)\u001b[0m\u001b[0;34m\u001b[0m\u001b[0;34m\u001b[0m\u001b[0m\n\u001b[0m\u001b[1;32m    616\u001b[0m             \u001b[0;32mexcept\u001b[0m \u001b[0mIOError\u001b[0m \u001b[0;32mas\u001b[0m \u001b[0merr\u001b[0m\u001b[0;34m:\u001b[0m\u001b[0;34m\u001b[0m\u001b[0;34m\u001b[0m\u001b[0m\n",
      "\u001b[0;31mFileNotFoundError\u001b[0m: [Errno 2] No such file or directory: '3d36242fd5-certificate.pem.crt'",
      "\nDuring handling of the above exception, another exception occurred:\n",
      "\u001b[0;31mOSError\u001b[0m                                   Traceback (most recent call last)",
      "\u001b[0;32m<ipython-input-3-175930da700e>\u001b[0m in \u001b[0;36m<module>\u001b[0;34m\u001b[0m\n\u001b[1;32m     16\u001b[0m \u001b[0mmyShadowClient\u001b[0m \u001b[0;34m=\u001b[0m \u001b[0mAWSIoTMQTTShadowClient\u001b[0m\u001b[0;34m(\u001b[0m\u001b[0mSHADOW_CLIENT\u001b[0m\u001b[0;34m)\u001b[0m\u001b[0;34m\u001b[0m\u001b[0;34m\u001b[0m\u001b[0m\n\u001b[1;32m     17\u001b[0m \u001b[0mmyShadowClient\u001b[0m\u001b[0;34m.\u001b[0m\u001b[0mconfigureEndpoint\u001b[0m\u001b[0;34m(\u001b[0m\u001b[0mHOST_NAME\u001b[0m\u001b[0;34m,\u001b[0m \u001b[0;36m8883\u001b[0m\u001b[0;34m)\u001b[0m\u001b[0;34m\u001b[0m\u001b[0;34m\u001b[0m\u001b[0m\n\u001b[0;32m---> 18\u001b[0;31m \u001b[0mmyShadowClient\u001b[0m\u001b[0;34m.\u001b[0m\u001b[0mconfigureCredentials\u001b[0m\u001b[0;34m(\u001b[0m\u001b[0mROOT_CA\u001b[0m\u001b[0;34m,\u001b[0m \u001b[0mPRIVATE_KEY\u001b[0m\u001b[0;34m,\u001b[0m\u001b[0mCERT_FILE\u001b[0m\u001b[0;34m)\u001b[0m\u001b[0;34m\u001b[0m\u001b[0;34m\u001b[0m\u001b[0m\n\u001b[0m\u001b[1;32m     19\u001b[0m \u001b[0mmyShadowClient\u001b[0m\u001b[0;34m.\u001b[0m\u001b[0mconfigureConnectDisconnectTimeout\u001b[0m\u001b[0;34m(\u001b[0m\u001b[0;36m10\u001b[0m\u001b[0;34m)\u001b[0m\u001b[0;34m\u001b[0m\u001b[0;34m\u001b[0m\u001b[0m\n\u001b[1;32m     20\u001b[0m \u001b[0mmyShadowClient\u001b[0m\u001b[0;34m.\u001b[0m\u001b[0mconfigureMQTTOperationTimeout\u001b[0m\u001b[0;34m(\u001b[0m\u001b[0;36m5\u001b[0m\u001b[0;34m)\u001b[0m\u001b[0;34m\u001b[0m\u001b[0;34m\u001b[0m\u001b[0m\n",
      "\u001b[0;32m//anaconda3/lib/python3.7/site-packages/AWSIoTPythonSDK/MQTTLib.py\u001b[0m in \u001b[0;36mconfigureCredentials\u001b[0;34m(self, CAFilePath, KeyPath, CertificatePath)\u001b[0m\n\u001b[1;32m   1044\u001b[0m         \"\"\"\n\u001b[1;32m   1045\u001b[0m         \u001b[0;31m# AWSIoTMQTTClient.configureCredentials\u001b[0m\u001b[0;34m\u001b[0m\u001b[0;34m\u001b[0m\u001b[0;34m\u001b[0m\u001b[0m\n\u001b[0;32m-> 1046\u001b[0;31m         \u001b[0mself\u001b[0m\u001b[0;34m.\u001b[0m\u001b[0m_AWSIoTMQTTClient\u001b[0m\u001b[0;34m.\u001b[0m\u001b[0mconfigureCredentials\u001b[0m\u001b[0;34m(\u001b[0m\u001b[0mCAFilePath\u001b[0m\u001b[0;34m,\u001b[0m \u001b[0mKeyPath\u001b[0m\u001b[0;34m,\u001b[0m \u001b[0mCertificatePath\u001b[0m\u001b[0;34m)\u001b[0m\u001b[0;34m\u001b[0m\u001b[0;34m\u001b[0m\u001b[0m\n\u001b[0m\u001b[1;32m   1047\u001b[0m \u001b[0;34m\u001b[0m\u001b[0m\n\u001b[1;32m   1048\u001b[0m     \u001b[0;32mdef\u001b[0m \u001b[0mconfigureAutoReconnectBackoffTime\u001b[0m\u001b[0;34m(\u001b[0m\u001b[0mself\u001b[0m\u001b[0;34m,\u001b[0m \u001b[0mbaseReconnectQuietTimeSecond\u001b[0m\u001b[0;34m,\u001b[0m \u001b[0mmaxReconnectQuietTimeSecond\u001b[0m\u001b[0;34m,\u001b[0m \u001b[0mstableConnectionTimeSecond\u001b[0m\u001b[0;34m)\u001b[0m\u001b[0;34m:\u001b[0m\u001b[0;34m\u001b[0m\u001b[0;34m\u001b[0m\u001b[0m\n",
      "\u001b[0;32m//anaconda3/lib/python3.7/site-packages/AWSIoTPythonSDK/MQTTLib.py\u001b[0m in \u001b[0;36mconfigureCredentials\u001b[0;34m(self, CAFilePath, KeyPath, CertificatePath)\u001b[0m\n\u001b[1;32m    237\u001b[0m         \u001b[0mcert_credentials_provider\u001b[0m\u001b[0;34m.\u001b[0m\u001b[0mset_key_path\u001b[0m\u001b[0;34m(\u001b[0m\u001b[0mKeyPath\u001b[0m\u001b[0;34m)\u001b[0m\u001b[0;34m\u001b[0m\u001b[0;34m\u001b[0m\u001b[0m\n\u001b[1;32m    238\u001b[0m         \u001b[0mcert_credentials_provider\u001b[0m\u001b[0;34m.\u001b[0m\u001b[0mset_cert_path\u001b[0m\u001b[0;34m(\u001b[0m\u001b[0mCertificatePath\u001b[0m\u001b[0;34m)\u001b[0m\u001b[0;34m\u001b[0m\u001b[0;34m\u001b[0m\u001b[0m\n\u001b[0;32m--> 239\u001b[0;31m         \u001b[0mself\u001b[0m\u001b[0;34m.\u001b[0m\u001b[0m_mqtt_core\u001b[0m\u001b[0;34m.\u001b[0m\u001b[0mconfigure_cert_credentials\u001b[0m\u001b[0;34m(\u001b[0m\u001b[0mcert_credentials_provider\u001b[0m\u001b[0;34m)\u001b[0m\u001b[0;34m\u001b[0m\u001b[0;34m\u001b[0m\u001b[0m\n\u001b[0m\u001b[1;32m    240\u001b[0m \u001b[0;34m\u001b[0m\u001b[0m\n\u001b[1;32m    241\u001b[0m     \u001b[0;32mdef\u001b[0m \u001b[0mconfigureAutoReconnectBackoffTime\u001b[0m\u001b[0;34m(\u001b[0m\u001b[0mself\u001b[0m\u001b[0;34m,\u001b[0m \u001b[0mbaseReconnectQuietTimeSecond\u001b[0m\u001b[0;34m,\u001b[0m \u001b[0mmaxReconnectQuietTimeSecond\u001b[0m\u001b[0;34m,\u001b[0m \u001b[0mstableConnectionTimeSecond\u001b[0m\u001b[0;34m)\u001b[0m\u001b[0;34m:\u001b[0m\u001b[0;34m\u001b[0m\u001b[0;34m\u001b[0m\u001b[0m\n",
      "\u001b[0;32m//anaconda3/lib/python3.7/site-packages/AWSIoTPythonSDK/core/protocol/mqtt_core.py\u001b[0m in \u001b[0;36mconfigure_cert_credentials\u001b[0;34m(self, cert_credentials_provider)\u001b[0m\n\u001b[1;32m    130\u001b[0m     \u001b[0;32mdef\u001b[0m \u001b[0mconfigure_cert_credentials\u001b[0m\u001b[0;34m(\u001b[0m\u001b[0mself\u001b[0m\u001b[0;34m,\u001b[0m \u001b[0mcert_credentials_provider\u001b[0m\u001b[0;34m)\u001b[0m\u001b[0;34m:\u001b[0m\u001b[0;34m\u001b[0m\u001b[0;34m\u001b[0m\u001b[0m\n\u001b[1;32m    131\u001b[0m         \u001b[0mself\u001b[0m\u001b[0;34m.\u001b[0m\u001b[0m_logger\u001b[0m\u001b[0;34m.\u001b[0m\u001b[0minfo\u001b[0m\u001b[0;34m(\u001b[0m\u001b[0;34m\"Configuring certificates...\"\u001b[0m\u001b[0;34m)\u001b[0m\u001b[0;34m\u001b[0m\u001b[0;34m\u001b[0m\u001b[0m\n\u001b[0;32m--> 132\u001b[0;31m         \u001b[0mself\u001b[0m\u001b[0;34m.\u001b[0m\u001b[0m_internal_async_client\u001b[0m\u001b[0;34m.\u001b[0m\u001b[0mset_cert_credentials_provider\u001b[0m\u001b[0;34m(\u001b[0m\u001b[0mcert_credentials_provider\u001b[0m\u001b[0;34m)\u001b[0m\u001b[0;34m\u001b[0m\u001b[0;34m\u001b[0m\u001b[0m\n\u001b[0m\u001b[1;32m    133\u001b[0m \u001b[0;34m\u001b[0m\u001b[0m\n\u001b[1;32m    134\u001b[0m     \u001b[0;32mdef\u001b[0m \u001b[0mconfigure_iam_credentials\u001b[0m\u001b[0;34m(\u001b[0m\u001b[0mself\u001b[0m\u001b[0;34m,\u001b[0m \u001b[0miam_credentials_provider\u001b[0m\u001b[0;34m)\u001b[0m\u001b[0;34m:\u001b[0m\u001b[0;34m\u001b[0m\u001b[0;34m\u001b[0m\u001b[0m\n",
      "\u001b[0;32m//anaconda3/lib/python3.7/site-packages/AWSIoTPythonSDK/core/protocol/internal/clients.py\u001b[0m in \u001b[0;36mset_cert_credentials_provider\u001b[0;34m(self, cert_credentials_provider)\u001b[0m\n\u001b[1;32m     82\u001b[0m             \u001b[0mkey_path\u001b[0m \u001b[0;34m=\u001b[0m \u001b[0mcert_credentials_provider\u001b[0m\u001b[0;34m.\u001b[0m\u001b[0mget_key_path\u001b[0m\u001b[0;34m(\u001b[0m\u001b[0;34m)\u001b[0m\u001b[0;34m\u001b[0m\u001b[0;34m\u001b[0m\u001b[0m\n\u001b[1;32m     83\u001b[0m             self._paho_client.tls_set(ca_certs=ca_path,certfile=cert_path, keyfile=key_path,\n\u001b[0;32m---> 84\u001b[0;31m                                       cert_reqs=ssl.CERT_REQUIRED, tls_version=ssl.PROTOCOL_SSLv23)\n\u001b[0m\u001b[1;32m     85\u001b[0m \u001b[0;34m\u001b[0m\u001b[0m\n\u001b[1;32m     86\u001b[0m     \u001b[0;32mdef\u001b[0m \u001b[0mset_iam_credentials_provider\u001b[0m\u001b[0;34m(\u001b[0m\u001b[0mself\u001b[0m\u001b[0;34m,\u001b[0m \u001b[0miam_credentials_provider\u001b[0m\u001b[0;34m)\u001b[0m\u001b[0;34m:\u001b[0m\u001b[0;34m\u001b[0m\u001b[0;34m\u001b[0m\u001b[0m\n",
      "\u001b[0;32m//anaconda3/lib/python3.7/site-packages/AWSIoTPythonSDK/core/protocol/paho/client.py\u001b[0m in \u001b[0;36mtls_set\u001b[0;34m(self, ca_certs, certfile, keyfile, cert_reqs, tls_version, ciphers)\u001b[0m\n\u001b[1;32m    615\u001b[0m                 \u001b[0mf\u001b[0m \u001b[0;34m=\u001b[0m \u001b[0mopen\u001b[0m\u001b[0;34m(\u001b[0m\u001b[0mcertfile\u001b[0m\u001b[0;34m,\u001b[0m \u001b[0;34m\"r\"\u001b[0m\u001b[0;34m)\u001b[0m\u001b[0;34m\u001b[0m\u001b[0;34m\u001b[0m\u001b[0m\n\u001b[1;32m    616\u001b[0m             \u001b[0;32mexcept\u001b[0m \u001b[0mIOError\u001b[0m \u001b[0;32mas\u001b[0m \u001b[0merr\u001b[0m\u001b[0;34m:\u001b[0m\u001b[0;34m\u001b[0m\u001b[0;34m\u001b[0m\u001b[0m\n\u001b[0;32m--> 617\u001b[0;31m                 \u001b[0;32mraise\u001b[0m \u001b[0mIOError\u001b[0m\u001b[0;34m(\u001b[0m\u001b[0mcertfile\u001b[0m\u001b[0;34m+\u001b[0m\u001b[0;34m\": \"\u001b[0m\u001b[0;34m+\u001b[0m\u001b[0merr\u001b[0m\u001b[0;34m.\u001b[0m\u001b[0mstrerror\u001b[0m\u001b[0;34m)\u001b[0m\u001b[0;34m\u001b[0m\u001b[0;34m\u001b[0m\u001b[0m\n\u001b[0m\u001b[1;32m    618\u001b[0m             \u001b[0;32melse\u001b[0m\u001b[0;34m:\u001b[0m\u001b[0;34m\u001b[0m\u001b[0;34m\u001b[0m\u001b[0m\n\u001b[1;32m    619\u001b[0m                 \u001b[0mf\u001b[0m\u001b[0;34m.\u001b[0m\u001b[0mclose\u001b[0m\u001b[0;34m(\u001b[0m\u001b[0;34m)\u001b[0m\u001b[0;34m\u001b[0m\u001b[0;34m\u001b[0m\u001b[0m\n",
      "\u001b[0;31mOSError\u001b[0m: 3d36242fd5-certificate.pem.crt: No such file or directory"
     ]
    }
   ],
   "source": [
    "from AWSIoTPythonSDK.MQTTLib import AWSIoTMQTTShadowClient\n",
    "\n",
    "# Configure parameters.\n",
    "SHADOW_CLIENT = \"ShadowClient2_A0195017E\"\n",
    "HOST_NAME = \"a3okd7abcwvnh4-ats.iot.ap-southeast-1.amazonaws.com\"\n",
    "ROOT_CA = \"AmazonRootCA1.pem.txt\"\n",
    "PRIVATE_KEY = \"3d36242fd5-private.pem.key\"\n",
    "CERT_FILE = \"3d36242fd5-certificate.pem.crt\"\n",
    "SHADOW_HANDLER = \"thing2_A0195017E\"\n",
    "\n",
    "# Automatically called whenever the shadow is updated.\n",
    "def myShadowUpdateCallback(payload, responseStatus, token):\n",
    "    print('UPDATE: $aws/things/' + SHADOW_HANDLER + '/shadow/update/#')\n",
    "    print(\"payload = \" + payload)\n",
    "    print(\"responseStatus:\" + responseStatus)\n",
    "    print(\"token = \" + token)\n",
    "\n",
    "# Create, configure, and connect a shadow client.\n",
    "myShadowClient = AWSIoTMQTTShadowClient(SHADOW_CLIENT)\n",
    "myShadowClient.configureEndpoint(HOST_NAME, 8883)\n",
    "myShadowClient.configureCredentials(ROOT_CA, PRIVATE_KEY,CERT_FILE)\n",
    "myShadowClient.configureConnectDisconnectTimeout(10)\n",
    "myShadowClient.configureMQTTOperationTimeout(5)\n",
    "myShadowClient.connect()\n",
    "\n",
    "# Create a programmatic representation of the shadow.\n",
    "myDeviceShadow = myShadowClient.createShadowHandlerWithName(SHADOW_HANDLER, True)\n",
    "\n",
    "\n",
    "import pandas as pd\n",
    "import time, datetime\n",
    "import json\n",
    "\n",
    "#load & overwrite \n",
    "file = pd.read_csv('train_FD002.txt', delim_whitespace = True, header = None)\n",
    "sensor=[]\n",
    "for i in range(21):\n",
    "    sensor[i]='sensor'+ str(i+1)\n",
    "file.columns = ['id', 'cycle', 'os1', 'os2', 'os3'] + sensor\n",
    "file['id'] = file['id'].map(lambda x: 'FD002_'+str(x))\n",
    "file['Matric No.']='A0195017E'\n",
    "\n",
    "for i in range(100):\n",
    "    msg=file.loc[[i]]\n",
    "    msg['timestamp']='UTC '+str(datetime.datetime.utcnow())\n",
    "    msg.index=[\"reported\"]\n",
    "    msg=msg.to_json(orient='index')\n",
    "    msg='{\"state\":'+msg+'}'\n",
    "    myDeviceShadow.shadowUpdate(msg,myShadowUpdateCallback, 5)\n",
    "    time.sleep(10)"
   ]
  },
  {
   "cell_type": "code",
   "execution_count": null,
   "metadata": {},
   "outputs": [],
   "source": []
  }
 ],
 "metadata": {
  "kernelspec": {
   "display_name": "Python 3",
   "language": "python",
   "name": "python3"
  },
  "language_info": {
   "codemirror_mode": {
    "name": "ipython",
    "version": 3
   },
   "file_extension": ".py",
   "mimetype": "text/x-python",
   "name": "python",
   "nbconvert_exporter": "python",
   "pygments_lexer": "ipython3",
   "version": "3.7.4"
  }
 },
 "nbformat": 4,
 "nbformat_minor": 4
}
