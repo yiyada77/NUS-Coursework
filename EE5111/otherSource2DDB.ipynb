{
 "cells": [
  {
   "cell_type": "code",
   "execution_count": null,
   "metadata": {
    "scrolled": true
   },
   "outputs": [],
   "source": [
    "from AWSIoTPythonSDK.MQTTLib import AWSIoTMQTTShadowClient, AWSIoTMQTTClient\n",
    "\n",
    "# Connection Setting\n",
    "SHADOW_CLIENT = \"ShadowClient1_A0195017E\"\n",
    "HOST_NAME = \"*********************.amazonaws.com\"\n",
    "ROOT_CA = \"AmazonRootCA1.pem.txt\"\n",
    "PRIVATE_KEY = \"****************-private.pem.key\"\n",
    "CERT_FILE = \"***************-certificate.pem.crt\"\n",
    "SHADOW_HANDLER = \"thing1_A0195017E\"\n",
    "\n",
    "# Automatically called whenever the shadow is updated.\n",
    "def myShadowUpdateCallback(payload, responseStatus, token):\n",
    "    print('UPDATE: $aws/things/' + SHADOW_HANDLER + '/shadow/update/#')\n",
    "    print(\"payload = \" + payload)\n",
    "    print(\"responseStatus:\" + responseStatus)\n",
    "    print(\"token = \" + token)\n",
    "\n",
    "# Create, configure, and connect a shadow client.\n",
    "myShadowClient = AWSIoTMQTTShadowClient(SHADOW_CLIENT)\n",
    "myShadowClient.configureEndpoint(HOST_NAME, 8883)\n",
    "myShadowClient.configureCredentials(ROOT_CA, PRIVATE_KEY,CERT_FILE)\n",
    "myShadowClient.configureConnectDisconnectTimeout(10)\n",
    "myShadowClient.configureMQTTOperationTimeout(5)\n",
    "myShadowClient.connect()\n",
    "\n",
    "# Create a programmatic representation of the shadow.\n",
    "myDeviceShadow = myShadowClient.createShadowHandlerWithName(SHADOW_HANDLER, True)"
   ]
  },
  {
   "cell_type": "code",
   "execution_count": null,
   "metadata": {},
   "outputs": [],
   "source": [
    "#process data\n",
    "import pandas as pd\n",
    "import time, datetime\n",
    "import json\n",
    "\n",
    "#publish data\n",
    "MVP = pd.read_csv('annual-motor-vehicle-population-by-vehicle-type.csv')\n",
    "for i in range(len(MVP)):\n",
    "    msg=MVP.loc[[i]]\n",
    "    msg.index=[\"reported\"]\n",
    "    msg=msg.to_json(orient='index')\n",
    "    msg='{\"state\":'+msg+'}'\n",
    "    myDeviceShadow.shadowUpdate(msg,myShadowUpdateCallback, 5)\n",
    "    time.sleep(0.5)"
   ]
  }
 ],
 "metadata": {
  "kernelspec": {
   "display_name": "Python 3",
   "language": "python",
   "name": "python3"
  },
  "language_info": {
   "codemirror_mode": {
    "name": "ipython",
    "version": 3
   },
   "file_extension": ".py",
   "mimetype": "text/x-python",
   "name": "python",
   "nbconvert_exporter": "python",
   "pygments_lexer": "ipython3",
   "version": "3.7.4"
  }
 },
 "nbformat": 4,
 "nbformat_minor": 4
}
